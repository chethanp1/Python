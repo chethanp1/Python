{
 "cells": [
  {
   "cell_type": "code",
   "execution_count": 1,
   "id": "fe8609a9",
   "metadata": {},
   "outputs": [
    {
     "name": "stdout",
     "output_type": "stream",
     "text": [
      "Please Enter the Width of a Rectangle: 2\n",
      "Please Enter the Height of a Rectangle: 3\n",
      "Area of a Rectangle is: 6.00 \n",
      "Enter the side: 2\n",
      "Area of the square= 4.0\n"
     ]
    }
   ],
   "source": [
    "# to find the Area of a Rectangle\n",
    "w = float(input('Please Enter the Width of a Rectangle: '))\n",
    "h = float(input('Please Enter the Height of a Rectangle: '))\n",
    "Area = w * h\n",
    "print(\"Area of a Rectangle is: %.2f \"%Area)\n",
    "# to find the Area of a square\n",
    "side = float(input(\"Enter the side: \"))\n",
    "Area = side*side\n",
    "print(\"Area of the square=\",Area)\n"
   ]
  },
  {
   "cell_type": "code",
   "execution_count": 3,
   "id": "575195a7",
   "metadata": {},
   "outputs": [
    {
     "name": "stdout",
     "output_type": "stream",
     "text": [
      "string After concatination: \n",
      "Chennai Won the match\n",
      "HP petrol\n",
      "Chennai  Won the match\n"
     ]
    }
   ],
   "source": [
    "\n",
    "# String concatination using (+) adddition operator.\n",
    "str1 = 'Chennai '\n",
    "str2 = 'Won the match'\n",
    "a = str1 + str2\n",
    "print(\"string After concatination: \")\n",
    "print(a)\n",
    "#String concatination using format.\n",
    "var1 = \"HP\"\n",
    "var2 = \"petrol\"\n",
    "print(\"{} {}\".format(var1, var2))\n",
    "var3 = \"{} {}\".format(str1, str2)\n",
    "print(var3)\n",
    "\n"
   ]
  },
  {
   "cell_type": "code",
   "execution_count": 4,
   "id": "423004b5",
   "metadata": {},
   "outputs": [
    {
     "name": "stdout",
     "output_type": "stream",
     "text": [
      "Enter the string in upper case. APPA\n",
      "String after convert to lower : \n",
      "appa\n",
      "appa\n"
     ]
    }
   ],
   "source": [
    "# Read in upper case and print in lower case.\n",
    "str = input(\"Enter the string in upper case. \")\n",
    "# covert to lowercase using lower().\n",
    "a=str.lower()\n",
    "print(\"String after convert to lower : \")\n",
    "print(a)\n",
    "# covert to lowercase using swapcase().\n",
    "print(str.swapcase())"
   ]
  },
  {
   "cell_type": "code",
   "execution_count": 5,
   "id": "91006514",
   "metadata": {},
   "outputs": [
    {
     "name": "stdout",
     "output_type": "stream",
     "text": [
      "Enter principal Amount: 2000\n",
      "Enter rate: 12\n",
      "Enter time: 2\n",
      "Simple interest =  480.0\n",
      "Compound interest =  508.8000000000002\n"
     ]
    }
   ],
   "source": [
    "p = float(input(\"Enter principal Amount: \"))\n",
    "r = float(input(\"Enter rate: \"))\n",
    "t = int(input(\"Enter time: \"))\n",
    "si = (p * r * t) / 100\n",
    "ci = p * ((1 + (r / 100 ))** t) - p\n",
    "print(\"Simple interest = \", si)\n",
    "print(\"Compound interest = \", ci)\n"
   ]
  },
  {
   "cell_type": "code",
   "execution_count": 6,
   "id": "45ecd781",
   "metadata": {},
   "outputs": [
    {
     "name": "stdout",
     "output_type": "stream",
     "text": [
      "Enter the basic pay: 20000\n",
      "The total salary is: 23000.0\n"
     ]
    }
   ],
   "source": [
    "# Constants\n",
    "HRA_P = 0.10\n",
    "TA_P = 0.05\n",
    "# Get basic pay from the user\n",
    "basic_pay = float(input(\"Enter the basic pay: \"))\n",
    "# Calculate HRA and TA\n",
    "hra = HRA_P * basic_pay\n",
    "ta = TA_P * basic_pay\n",
    "# Calculate total salary\n",
    "salary = basic_pay + hra + ta\n",
    "# Print the salary\n",
    "print(\"The total salary is:\", salary)\n"
   ]
  },
  {
   "cell_type": "code",
   "execution_count": 7,
   "id": "83796efc",
   "metadata": {},
   "outputs": [
    {
     "name": "stdout",
     "output_type": "stream",
     "text": [
      "Enter a number or a character: Cheth1\n",
      "Input is neither a number nor a character.\n"
     ]
    }
   ],
   "source": [
    "a=input(\"Enter a number or a character: \")\n",
    "if a.isdigit():\n",
    " print(\"Input is a number.\")\n",
    "elif a.isalpha():\n",
    " if a.isupper():\n",
    "     print(\"Input is an uppercase character.\")\n",
    " elif a.islower():\n",
    "     print(\"Input is a lowercase character.\")\n",
    "else:\n",
    "     print(\"Input is neither a number nor a character.\")\n"
   ]
  },
  {
   "cell_type": "code",
   "execution_count": 8,
   "id": "3523ced2",
   "metadata": {},
   "outputs": [
    {
     "name": "stdout",
     "output_type": "stream",
     "text": [
      "Enter a number or a character: Chet1\n",
      "Input is neither a number nor a character.\n"
     ]
    }
   ],
   "source": [
    "def check_input(input_str):\n",
    " if input_str.isdigit():\n",
    "     print(\"Input is a number.\")\n",
    " elif input_str.isalpha():\n",
    "    if input_str.isupper():\n",
    "         print(\"Input is an uppercase character.\")\n",
    "    elif input_str.islower():\n",
    "         print(\"Input is a lowercase character.\")\n",
    " else:\n",
    "     print(\"Input is neither a number nor a character.\")\n",
    "user_input = input(\"Enter a number or a character: \")\n",
    "check_input(user_input)"
   ]
  },
  {
   "cell_type": "code",
   "execution_count": 11,
   "id": "09c5d03b",
   "metadata": {},
   "outputs": [
    {
     "name": "stdout",
     "output_type": "stream",
     "text": [
      "Enter the number : 3\n",
      "After Reverse the Number is:  3\n"
     ]
    }
   ],
   "source": [
    "# Using WHILE loop\n",
    "num=int(input('Enter the number : '))\n",
    "rev_num = 0\n",
    "while num != 0:\n",
    " digit = num % 10\n",
    " rev_num = rev_num * 10 + digit\n",
    " num //= 10\n",
    "print(\"After Reverse the Number is: \" ,rev_num)"
   ]
  },
  {
   "cell_type": "code",
   "execution_count": 12,
   "id": "eca53b9a",
   "metadata": {},
   "outputs": [
    {
     "name": "stdout",
     "output_type": "stream",
     "text": [
      "Enter the number : 5\n",
      "5 x 1 = 5\n",
      "5 x 2 = 10\n",
      "5 x 3 = 15\n",
      "5 x 4 = 20\n",
      "5 x 5 = 25\n",
      "5 x 6 = 30\n",
      "5 x 7 = 35\n",
      "5 x 8 = 40\n",
      "5 x 9 = 45\n",
      "5 x 10 = 50\n"
     ]
    }
   ],
   "source": [
    "# To take input from the user\n",
    "num =int(input(\"Enter the number : \"))\n",
    "for i in range(1, 11):\n",
    " print(num, 'x', i, '=', num*i)"
   ]
  },
  {
   "cell_type": "code",
   "execution_count": null,
   "id": "d89f97e0",
   "metadata": {},
   "outputs": [],
   "source": []
  },
  {
   "cell_type": "code",
   "execution_count": null,
   "id": "02606b0a",
   "metadata": {},
   "outputs": [],
   "source": []
  },
  {
   "cell_type": "code",
   "execution_count": null,
   "id": "80bcf08a",
   "metadata": {},
   "outputs": [],
   "source": []
  }
 ],
 "metadata": {
  "kernelspec": {
   "display_name": "Python 3 (ipykernel)",
   "language": "python",
   "name": "python3"
  },
  "language_info": {
   "codemirror_mode": {
    "name": "ipython",
    "version": 3
   },
   "file_extension": ".py",
   "mimetype": "text/x-python",
   "name": "python",
   "nbconvert_exporter": "python",
   "pygments_lexer": "ipython3",
   "version": "3.10.9"
  }
 },
 "nbformat": 4,
 "nbformat_minor": 5
}
